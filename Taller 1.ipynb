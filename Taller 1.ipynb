{
 "cells": [
  {
   "cell_type": "markdown",
   "id": "f8dea8e5",
   "metadata": {},
   "source": [
    "Taller 1\n",
    "\n",
    "Diplomado Python aplicado a la ingenieria\n",
    "\n",
    "El abuelo Melquiades\n",
    "\n",
    "Estudiante: Gabriela Torres Ramos\n",
    "    \n",
    "ID No.502193\n",
    "\n",
    "Upb"
   ]
  },
  {
   "cell_type": "code",
   "execution_count": 11,
   "id": "7de8f178",
   "metadata": {},
   "outputs": [
    {
     "name": "stdout",
     "output_type": "stream",
     "text": [
      "Cual es el nombre del artista: hhhb\n",
      "tema generado:['mami yo puedo ligal lápidotoda la noche feis to feis '] Lo canta hhhb\n"
     ]
    }
   ],
   "source": [
    "import random \n",
    "\n",
    "Artista= input(\"Cual es el nombre del artista: \")\n",
    "\n",
    "letra= [\"mami \", \"Bebé \", \"princess \" , \"mami \"] \n",
    "convinaciones= [\"yo quiero \", \"yo puedo \", \"yo vengo a \" , \"voy a \" ]\n",
    "ritmo = [\"encendelte \", \"amalte \", \"ligal \" , \"jugal \" ]\n",
    "sonidos = [\"suave \", \"lento \" , \"lápido\", \"fuelte \" ]\n",
    "musica_A = [\"hasta que salga el sol \" , \"toda la noche \",\"hasta el amanecer \", \"todo el día \"]\n",
    "musica_B = [ \"sin anestesia \", \"sin compromiso \", \"feis to feis \", \" sin miedo\"]\n",
    "\n",
    "pista= [letra[random.randint(0,3)]+ convinaciones[random.randint(0,3)]+ritmo[random.randint(0,3)]+sonidos[random.randint(0,3)]+musica_A[random.randint(0,3)]+musica_B[random.randint(0,3)]]\n",
    "\n",
    "print( \"tema generado:\" + str(pista) + \" Lo canta \" +Artista)"
   ]
  },
  {
   "cell_type": "code",
   "execution_count": null,
   "id": "002529fe",
   "metadata": {},
   "outputs": [],
   "source": [
    "\n"
   ]
  },
  {
   "cell_type": "code",
   "execution_count": null,
   "id": "5ba1130a",
   "metadata": {},
   "outputs": [],
   "source": []
  },
  {
   "cell_type": "code",
   "execution_count": null,
   "id": "663ca9e9",
   "metadata": {},
   "outputs": [],
   "source": []
  }
 ],
 "metadata": {
  "kernelspec": {
   "display_name": "Python 3 (ipykernel)",
   "language": "python",
   "name": "python3"
  },
  "language_info": {
   "codemirror_mode": {
    "name": "ipython",
    "version": 3
   },
   "file_extension": ".py",
   "mimetype": "text/x-python",
   "name": "python",
   "nbconvert_exporter": "python",
   "pygments_lexer": "ipython3",
   "version": "3.9.12"
  }
 },
 "nbformat": 4,
 "nbformat_minor": 5
}
